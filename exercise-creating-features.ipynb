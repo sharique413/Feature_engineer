{
 "cells": [
  {
   "cell_type": "markdown",
   "id": "unlike-greek",
   "metadata": {
    "papermill": {
     "duration": 0.018464,
     "end_time": "2021-05-23T05:52:23.242341",
     "exception": false,
     "start_time": "2021-05-23T05:52:23.223877",
     "status": "completed"
    },
    "tags": []
   },
   "source": [
    "**This notebook is an exercise in the [Feature Engineering](https://www.kaggle.com/learn/feature-engineering) course.  You can reference the tutorial at [this link](https://www.kaggle.com/ryanholbrook/creating-features).**\n",
    "\n",
    "---\n"
   ]
  },
  {
   "cell_type": "markdown",
   "id": "large-vienna",
   "metadata": {
    "papermill": {
     "duration": 0.01879,
     "end_time": "2021-05-23T05:52:23.278638",
     "exception": false,
     "start_time": "2021-05-23T05:52:23.259848",
     "status": "completed"
    },
    "tags": []
   },
   "source": [
    "# Introduction #\n",
    "\n",
    "In this exercise you'll start developing the features you identified in Exercise 2 as having the most potential. As you work through this exercise, you might take a moment to look at the data documentation again and consider whether the features we're creating make sense from a real-world perspective, and whether there are any useful combinations that stand out to you.\n",
    "\n",
    "Run this cell to set everything up!"
   ]
  },
  {
   "cell_type": "code",
   "execution_count": 1,
   "id": "ranking-savage",
   "metadata": {
    "execution": {
     "iopub.execute_input": "2021-05-23T05:52:23.323446Z",
     "iopub.status.busy": "2021-05-23T05:52:23.322514Z",
     "iopub.status.idle": "2021-05-23T05:52:25.050931Z",
     "shell.execute_reply": "2021-05-23T05:52:25.050241Z",
     "shell.execute_reply.started": "2021-05-22T18:03:06.721051Z"
    },
    "papermill": {
     "duration": 1.754663,
     "end_time": "2021-05-23T05:52:25.051130",
     "exception": false,
     "start_time": "2021-05-23T05:52:23.296467",
     "status": "completed"
    },
    "tags": []
   },
   "outputs": [],
   "source": [
    "# Setup feedback system\n",
    "from learntools.core import binder\n",
    "binder.bind(globals())\n",
    "from learntools.feature_engineering_new.ex3 import *\n",
    "\n",
    "import numpy as np\n",
    "import pandas as pd\n",
    "from sklearn.model_selection import cross_val_score\n",
    "from xgboost import XGBRegressor\n",
    "\n",
    "\n",
    "def score_dataset(X, y, model=XGBRegressor()):\n",
    "    # Label encoding for categoricals\n",
    "    for colname in X.select_dtypes([\"category\", \"object\"]):\n",
    "        X[colname], _ = X[colname].factorize()\n",
    "    # Metric for Housing competition is RMSLE (Root Mean Squared Log Error)\n",
    "    score = cross_val_score(\n",
    "        model, X, y, cv=5, scoring=\"neg_mean_squared_log_error\",\n",
    "    )\n",
    "    score = -1 * score.mean()\n",
    "    score = np.sqrt(score)\n",
    "    return score\n",
    "\n",
    "\n",
    "# Prepare data\n",
    "df = pd.read_csv(\"../input/fe-course-data/ames.csv\")\n",
    "X = df.copy()\n",
    "y = X.pop(\"SalePrice\")"
   ]
  },
  {
   "cell_type": "markdown",
   "id": "moving-sequence",
   "metadata": {
    "papermill": {
     "duration": 0.01678,
     "end_time": "2021-05-23T05:52:25.084815",
     "exception": false,
     "start_time": "2021-05-23T05:52:25.068035",
     "status": "completed"
    },
    "tags": []
   },
   "source": [
    "-------------------------------------------------------------------------------\n",
    "\n",
    "Let's start with a few mathematical combinations. We'll focus on features describing areas -- having the same units (square-feet) makes it easy to combine them in sensible ways. Since we're using XGBoost (a tree-based model), we'll focus on ratios and sums.\n",
    "\n",
    "# 1) Create Mathematical Transforms\n",
    "\n",
    "Create the following features:\n",
    "\n",
    "- `LivLotRatio`: the ratio of `GrLivArea` to `LotArea`\n",
    "- `Spaciousness`: the sum of `FirstFlrSF` and `SecondFlrSF` divided by `TotRmsAbvGrd`\n",
    "- `TotalOutsideSF`: the sum of `WoodDeckSF`, `OpenPorchSF`, `EnclosedPorch`, `Threeseasonporch`, and `ScreenPorch`"
   ]
  },
  {
   "cell_type": "code",
   "execution_count": 2,
   "id": "owned-things",
   "metadata": {
    "execution": {
     "iopub.execute_input": "2021-05-23T05:52:25.128073Z",
     "iopub.status.busy": "2021-05-23T05:52:25.127329Z",
     "iopub.status.idle": "2021-05-23T05:52:25.159917Z",
     "shell.execute_reply": "2021-05-23T05:52:25.160448Z",
     "shell.execute_reply.started": "2021-05-22T18:16:43.62507Z"
    },
    "lines_to_next_cell": 0,
    "papermill": {
     "duration": 0.057467,
     "end_time": "2021-05-23T05:52:25.160625",
     "exception": false,
     "start_time": "2021-05-23T05:52:25.103158",
     "status": "completed"
    },
    "tags": []
   },
   "outputs": [
    {
     "data": {
      "application/javascript": [
       "parent.postMessage({\"jupyterEvent\": \"custom.exercise_interaction\", \"data\": {\"outcomeType\": 1, \"valueTowardsCompletion\": 0.2, \"interactionType\": 1, \"questionType\": 2, \"questionId\": \"1_Q1\", \"learnToolsVersion\": \"0.3.4\", \"failureMessage\": \"\", \"exceptionClass\": \"\", \"trace\": \"\"}}, \"*\")"
      ],
      "text/plain": [
       "<IPython.core.display.Javascript object>"
      ]
     },
     "metadata": {},
     "output_type": "display_data"
    },
    {
     "data": {
      "text/markdown": [
       "<span style=\"color:#33cc33\">Correct</span>"
      ],
      "text/plain": [
       "Correct"
      ]
     },
     "metadata": {},
     "output_type": "display_data"
    }
   ],
   "source": [
    "# YOUR CODE HERE\n",
    "X_1 = pd.DataFrame()  # dataframe to hold new features\n",
    "\n",
    "X_1[\"LivLotRatio\"] = df.GrLivArea/df.LotArea\n",
    "X_1[\"Spaciousness\"] = (df.FirstFlrSF + df.SecondFlrSF) / df.TotRmsAbvGrd\n",
    "X_1[\"TotalOutsideSF\"] = df.WoodDeckSF + df.OpenPorchSF + df.EnclosedPorch + df.ScreenPorch +df.Threeseasonporch\n",
    "\n",
    "\n",
    "# Check your answer\n",
    "q_1.check()"
   ]
  },
  {
   "cell_type": "code",
   "execution_count": 3,
   "id": "worse-theorem",
   "metadata": {
    "execution": {
     "iopub.execute_input": "2021-05-23T05:52:25.201569Z",
     "iopub.status.busy": "2021-05-23T05:52:25.200916Z",
     "iopub.status.idle": "2021-05-23T05:52:25.205516Z",
     "shell.execute_reply": "2021-05-23T05:52:25.204966Z",
     "shell.execute_reply.started": "2021-05-22T18:16:50.129943Z"
    },
    "lines_to_next_cell": 0,
    "papermill": {
     "duration": 0.025377,
     "end_time": "2021-05-23T05:52:25.205662",
     "exception": false,
     "start_time": "2021-05-23T05:52:25.180285",
     "status": "completed"
    },
    "tags": []
   },
   "outputs": [],
   "source": [
    "# Lines below will give you a hint or solution code\n",
    "#q_1.hint()\n",
    "#q_1.solution()"
   ]
  },
  {
   "cell_type": "markdown",
   "id": "hundred-light",
   "metadata": {
    "papermill": {
     "duration": 0.017295,
     "end_time": "2021-05-23T05:52:25.240906",
     "exception": false,
     "start_time": "2021-05-23T05:52:25.223611",
     "status": "completed"
    },
    "tags": []
   },
   "source": [
    "-------------------------------------------------------------------------------\n",
    "\n",
    "If you've discovered an interaction effect between a numeric feature and a categorical feature, you might want to model it explicitly using a one-hot encoding, like so:\n",
    "\n",
    "```\n",
    "# One-hot encode Categorical feature, adding a column prefix \"Cat\"\n",
    "X_new = pd.get_dummies(df.Categorical, prefix=\"Cat\")\n",
    "\n",
    "# Multiply row-by-row\n",
    "X_new = X_new.mul(df.Continuous, axis=0)\n",
    "\n",
    "# Join the new features to the feature set\n",
    "X = X.join(X_new)\n",
    "```\n",
    "\n",
    "# 2) Interaction with a Categorical\n",
    "\n",
    "We discovered an interaction between `BldgType` and `GrLivArea` in Exercise 2. Now create their interaction features."
   ]
  },
  {
   "cell_type": "code",
   "execution_count": 4,
   "id": "vertical-penetration",
   "metadata": {
    "execution": {
     "iopub.execute_input": "2021-05-23T05:52:25.287183Z",
     "iopub.status.busy": "2021-05-23T05:52:25.286481Z",
     "iopub.status.idle": "2021-05-23T05:52:25.300583Z",
     "shell.execute_reply": "2021-05-23T05:52:25.301115Z",
     "shell.execute_reply.started": "2021-05-22T18:19:28.524391Z"
    },
    "lines_to_next_cell": 0,
    "papermill": {
     "duration": 0.042846,
     "end_time": "2021-05-23T05:52:25.301297",
     "exception": false,
     "start_time": "2021-05-23T05:52:25.258451",
     "status": "completed"
    },
    "tags": []
   },
   "outputs": [
    {
     "data": {
      "application/javascript": [
       "parent.postMessage({\"jupyterEvent\": \"custom.exercise_interaction\", \"data\": {\"outcomeType\": 1, \"valueTowardsCompletion\": 0.2, \"interactionType\": 1, \"questionType\": 2, \"questionId\": \"2_Q2\", \"learnToolsVersion\": \"0.3.4\", \"failureMessage\": \"\", \"exceptionClass\": \"\", \"trace\": \"\"}}, \"*\")"
      ],
      "text/plain": [
       "<IPython.core.display.Javascript object>"
      ]
     },
     "metadata": {},
     "output_type": "display_data"
    },
    {
     "data": {
      "text/markdown": [
       "<span style=\"color:#33cc33\">Correct</span>"
      ],
      "text/plain": [
       "Correct"
      ]
     },
     "metadata": {},
     "output_type": "display_data"
    }
   ],
   "source": [
    "# YOUR CODE HERE\n",
    "# One-hot encode BldgType. Use `prefix=\"Bldg\"` in `get_dummies`\n",
    "X_2 = pd.get_dummies(df.BldgType, prefix=\"Bldg\")\n",
    "# Multiply\n",
    "X_2 = X_2.mul(df.GrLivArea, axis =0)\n",
    "\n",
    "\n",
    "# Check your answer\n",
    "q_2.check()"
   ]
  },
  {
   "cell_type": "code",
   "execution_count": 5,
   "id": "usual-participation",
   "metadata": {
    "execution": {
     "iopub.execute_input": "2021-05-23T05:52:25.342114Z",
     "iopub.status.busy": "2021-05-23T05:52:25.341467Z",
     "iopub.status.idle": "2021-05-23T05:52:25.344490Z",
     "shell.execute_reply": "2021-05-23T05:52:25.345063Z",
     "shell.execute_reply.started": "2021-05-22T18:19:34.9248Z"
    },
    "lines_to_next_cell": 0,
    "papermill": {
     "duration": 0.025106,
     "end_time": "2021-05-23T05:52:25.345233",
     "exception": false,
     "start_time": "2021-05-23T05:52:25.320127",
     "status": "completed"
    },
    "tags": []
   },
   "outputs": [],
   "source": [
    "# Lines below will give you a hint or solution code\n",
    "#q_2.hint()\n",
    "#q_2.solution()"
   ]
  },
  {
   "cell_type": "markdown",
   "id": "broadband-moderator",
   "metadata": {
    "lines_to_next_cell": 0,
    "papermill": {
     "duration": 0.018295,
     "end_time": "2021-05-23T05:52:25.382314",
     "exception": false,
     "start_time": "2021-05-23T05:52:25.364019",
     "status": "completed"
    },
    "tags": []
   },
   "source": [
    "# 3) Count Feature\n",
    "\n",
    "Let's try creating a feature that describes how many kinds of outdoor areas a dwelling has. Create a feature `PorchTypes` that counts how many of the following are greater than 0.0:\n",
    "\n",
    "```\n",
    "WoodDeckSF\n",
    "OpenPorchSF\n",
    "EnclosedPorch\n",
    "Threeseasonporch\n",
    "ScreenPorch\n",
    "```"
   ]
  },
  {
   "cell_type": "code",
   "execution_count": 6,
   "id": "plastic-moscow",
   "metadata": {
    "execution": {
     "iopub.execute_input": "2021-05-23T05:52:25.423726Z",
     "iopub.status.busy": "2021-05-23T05:52:25.423090Z",
     "iopub.status.idle": "2021-05-23T05:52:25.438801Z",
     "shell.execute_reply": "2021-05-23T05:52:25.439360Z",
     "shell.execute_reply.started": "2021-05-22T18:21:42.124263Z"
    },
    "lines_to_next_cell": 0,
    "papermill": {
     "duration": 0.038395,
     "end_time": "2021-05-23T05:52:25.439531",
     "exception": false,
     "start_time": "2021-05-23T05:52:25.401136",
     "status": "completed"
    },
    "tags": []
   },
   "outputs": [
    {
     "data": {
      "application/javascript": [
       "parent.postMessage({\"jupyterEvent\": \"custom.exercise_interaction\", \"data\": {\"outcomeType\": 1, \"valueTowardsCompletion\": 0.2, \"interactionType\": 1, \"questionType\": 2, \"questionId\": \"3_Q3\", \"learnToolsVersion\": \"0.3.4\", \"failureMessage\": \"\", \"exceptionClass\": \"\", \"trace\": \"\"}}, \"*\")"
      ],
      "text/plain": [
       "<IPython.core.display.Javascript object>"
      ]
     },
     "metadata": {},
     "output_type": "display_data"
    },
    {
     "data": {
      "text/markdown": [
       "<span style=\"color:#33cc33\">Correct</span>"
      ],
      "text/plain": [
       "Correct"
      ]
     },
     "metadata": {},
     "output_type": "display_data"
    }
   ],
   "source": [
    "X_3 = pd.DataFrame()\n",
    "\n",
    "# YOUR CODE HERE\n",
    "X_3[\"PorchTypes\"] = df[[ \"WoodDeckSF\",\n",
    "    \"OpenPorchSF\",\n",
    "    \"EnclosedPorch\",\n",
    "    \"Threeseasonporch\",\n",
    "    \"ScreenPorch\",]].gt(0.0).sum(axis=1)\n",
    "\n",
    "\n",
    "# Check your answer\n",
    "q_3.check()"
   ]
  },
  {
   "cell_type": "code",
   "execution_count": 7,
   "id": "divine-treatment",
   "metadata": {
    "execution": {
     "iopub.execute_input": "2021-05-23T05:52:25.482341Z",
     "iopub.status.busy": "2021-05-23T05:52:25.481664Z",
     "iopub.status.idle": "2021-05-23T05:52:25.485046Z",
     "shell.execute_reply": "2021-05-23T05:52:25.485539Z",
     "shell.execute_reply.started": "2021-05-22T18:21:49.849135Z"
    },
    "lines_to_next_cell": 0,
    "papermill": {
     "duration": 0.026656,
     "end_time": "2021-05-23T05:52:25.485710",
     "exception": false,
     "start_time": "2021-05-23T05:52:25.459054",
     "status": "completed"
    },
    "tags": []
   },
   "outputs": [],
   "source": [
    "# Lines below will give you a hint or solution code\n",
    "#q_3.hint()\n",
    "#q_3.solution()"
   ]
  },
  {
   "cell_type": "markdown",
   "id": "smoking-milton",
   "metadata": {
    "papermill": {
     "duration": 0.01945,
     "end_time": "2021-05-23T05:52:25.524937",
     "exception": false,
     "start_time": "2021-05-23T05:52:25.505487",
     "status": "completed"
    },
    "tags": []
   },
   "source": [
    "# 4) Break Down a Categorical Feature\n",
    "\n",
    "`MSSubClass` describes the type of a dwelling:"
   ]
  },
  {
   "cell_type": "code",
   "execution_count": 8,
   "id": "impossible-parts",
   "metadata": {
    "execution": {
     "iopub.execute_input": "2021-05-23T05:52:25.568405Z",
     "iopub.status.busy": "2021-05-23T05:52:25.567736Z",
     "iopub.status.idle": "2021-05-23T05:52:25.573817Z",
     "shell.execute_reply": "2021-05-23T05:52:25.574331Z",
     "shell.execute_reply.started": "2021-05-22T18:21:54.238914Z"
    },
    "papermill": {
     "duration": 0.02903,
     "end_time": "2021-05-23T05:52:25.574504",
     "exception": false,
     "start_time": "2021-05-23T05:52:25.545474",
     "status": "completed"
    },
    "tags": []
   },
   "outputs": [
    {
     "data": {
      "text/plain": [
       "array(['One_Story_1946_and_Newer_All_Styles', 'Two_Story_1946_and_Newer',\n",
       "       'One_Story_PUD_1946_and_Newer',\n",
       "       'One_and_Half_Story_Finished_All_Ages', 'Split_Foyer',\n",
       "       'Two_Story_PUD_1946_and_Newer', 'Split_or_Multilevel',\n",
       "       'One_Story_1945_and_Older', 'Duplex_All_Styles_and_Ages',\n",
       "       'Two_Family_conversion_All_Styles_and_Ages',\n",
       "       'One_and_Half_Story_Unfinished_All_Ages',\n",
       "       'Two_Story_1945_and_Older', 'Two_and_Half_Story_All_Ages',\n",
       "       'One_Story_with_Finished_Attic_All_Ages',\n",
       "       'PUD_Multilevel_Split_Level_Foyer',\n",
       "       'One_and_Half_Story_PUD_All_Ages'], dtype=object)"
      ]
     },
     "execution_count": 8,
     "metadata": {},
     "output_type": "execute_result"
    }
   ],
   "source": [
    "df.MSSubClass.unique()"
   ]
  },
  {
   "cell_type": "markdown",
   "id": "confused-robert",
   "metadata": {
    "papermill": {
     "duration": 0.019633,
     "end_time": "2021-05-23T05:52:25.614091",
     "exception": false,
     "start_time": "2021-05-23T05:52:25.594458",
     "status": "completed"
    },
    "tags": []
   },
   "source": [
    "You can see that there is a more general categorization described (roughly) by the first word of each category. Create a feature containing only these first words by splitting `MSSubClass` at the first underscore `_`. (Hint: In the `split` method use an argument `n=1`.)"
   ]
  },
  {
   "cell_type": "code",
   "execution_count": 9,
   "id": "pacific-parish",
   "metadata": {
    "execution": {
     "iopub.execute_input": "2021-05-23T05:52:25.657140Z",
     "iopub.status.busy": "2021-05-23T05:52:25.656483Z",
     "iopub.status.idle": "2021-05-23T05:52:25.683247Z",
     "shell.execute_reply": "2021-05-23T05:52:25.683741Z",
     "shell.execute_reply.started": "2021-05-22T18:23:08.830918Z"
    },
    "lines_to_next_cell": 0,
    "papermill": {
     "duration": 0.05006,
     "end_time": "2021-05-23T05:52:25.683913",
     "exception": false,
     "start_time": "2021-05-23T05:52:25.633853",
     "status": "completed"
    },
    "tags": []
   },
   "outputs": [
    {
     "data": {
      "application/javascript": [
       "parent.postMessage({\"jupyterEvent\": \"custom.exercise_interaction\", \"data\": {\"outcomeType\": 1, \"valueTowardsCompletion\": 0.2, \"interactionType\": 1, \"questionType\": 2, \"questionId\": \"4_Q4\", \"learnToolsVersion\": \"0.3.4\", \"failureMessage\": \"\", \"exceptionClass\": \"\", \"trace\": \"\"}}, \"*\")"
      ],
      "text/plain": [
       "<IPython.core.display.Javascript object>"
      ]
     },
     "metadata": {},
     "output_type": "display_data"
    },
    {
     "data": {
      "text/markdown": [
       "<span style=\"color:#33cc33\">Correct</span>"
      ],
      "text/plain": [
       "Correct"
      ]
     },
     "metadata": {},
     "output_type": "display_data"
    }
   ],
   "source": [
    "X_4 = pd.DataFrame()\n",
    "\n",
    "# YOUR CODE HERE\n",
    "X_4[\"MSClass\"]=df.MSSubClass.str.split(\"_\", n=1, expand=True)[0]\n",
    "\n",
    "# Check your answer\n",
    "q_4.check()"
   ]
  },
  {
   "cell_type": "code",
   "execution_count": 10,
   "id": "robust-uganda",
   "metadata": {
    "execution": {
     "iopub.execute_input": "2021-05-23T05:52:25.730814Z",
     "iopub.status.busy": "2021-05-23T05:52:25.729771Z",
     "iopub.status.idle": "2021-05-23T05:52:25.733273Z",
     "shell.execute_reply": "2021-05-23T05:52:25.732611Z",
     "shell.execute_reply.started": "2021-05-22T18:23:14.753747Z"
    },
    "lines_to_next_cell": 0,
    "papermill": {
     "duration": 0.028633,
     "end_time": "2021-05-23T05:52:25.733434",
     "exception": false,
     "start_time": "2021-05-23T05:52:25.704801",
     "status": "completed"
    },
    "tags": []
   },
   "outputs": [],
   "source": [
    "# Lines below will give you a hint or solution code\n",
    "#q_4.hint()\n",
    "#q_4.solution()"
   ]
  },
  {
   "cell_type": "markdown",
   "id": "textile-joyce",
   "metadata": {
    "papermill": {
     "duration": 0.021595,
     "end_time": "2021-05-23T05:52:25.776093",
     "exception": false,
     "start_time": "2021-05-23T05:52:25.754498",
     "status": "completed"
    },
    "tags": []
   },
   "source": [
    "# 5) Use a Grouped Transform\n",
    "\n",
    "The value of a home often depends on how it compares to typical homes in its neighborhood. Create a feature `MedNhbdArea` that describes the *median* of `GrLivArea` grouped on `Neighborhood`."
   ]
  },
  {
   "cell_type": "code",
   "execution_count": 11,
   "id": "mighty-cable",
   "metadata": {
    "execution": {
     "iopub.execute_input": "2021-05-23T05:52:25.835620Z",
     "iopub.status.busy": "2021-05-23T05:52:25.834584Z",
     "iopub.status.idle": "2021-05-23T05:52:25.844022Z",
     "shell.execute_reply": "2021-05-23T05:52:25.843467Z",
     "shell.execute_reply.started": "2021-05-22T18:24:25.410099Z"
    },
    "lines_to_next_cell": 0,
    "papermill": {
     "duration": 0.045699,
     "end_time": "2021-05-23T05:52:25.844171",
     "exception": false,
     "start_time": "2021-05-23T05:52:25.798472",
     "status": "completed"
    },
    "tags": []
   },
   "outputs": [
    {
     "data": {
      "application/javascript": [
       "parent.postMessage({\"jupyterEvent\": \"custom.exercise_interaction\", \"data\": {\"outcomeType\": 1, \"valueTowardsCompletion\": 0.2, \"interactionType\": 1, \"questionType\": 2, \"questionId\": \"5_Q5\", \"learnToolsVersion\": \"0.3.4\", \"failureMessage\": \"\", \"exceptionClass\": \"\", \"trace\": \"\"}}, \"*\")"
      ],
      "text/plain": [
       "<IPython.core.display.Javascript object>"
      ]
     },
     "metadata": {},
     "output_type": "display_data"
    },
    {
     "data": {
      "text/markdown": [
       "<span style=\"color:#33cc33\">Correct</span>"
      ],
      "text/plain": [
       "Correct"
      ]
     },
     "metadata": {},
     "output_type": "display_data"
    }
   ],
   "source": [
    "X_5 = pd.DataFrame()\n",
    "\n",
    "# YOUR CODE HERE\n",
    "X_5[\"MedNhbdArea\"] = df.groupby(\"Neighborhood\")[\"GrLivArea\"].transform(\"median\")\n",
    "\n",
    "# Check your answer\n",
    "q_5.check()"
   ]
  },
  {
   "cell_type": "code",
   "execution_count": 12,
   "id": "secure-adult",
   "metadata": {
    "execution": {
     "iopub.execute_input": "2021-05-23T05:52:25.892575Z",
     "iopub.status.busy": "2021-05-23T05:52:25.891587Z",
     "iopub.status.idle": "2021-05-23T05:52:25.895270Z",
     "shell.execute_reply": "2021-05-23T05:52:25.895786Z",
     "shell.execute_reply.started": "2021-05-22T18:24:31.069137Z"
    },
    "lines_to_next_cell": 0,
    "papermill": {
     "duration": 0.029472,
     "end_time": "2021-05-23T05:52:25.895960",
     "exception": false,
     "start_time": "2021-05-23T05:52:25.866488",
     "status": "completed"
    },
    "tags": []
   },
   "outputs": [],
   "source": [
    "# Lines below will give you a hint or solution code\n",
    "#q_5.hint()\n",
    "#q_5.solution()"
   ]
  },
  {
   "cell_type": "markdown",
   "id": "monthly-county",
   "metadata": {
    "papermill": {
     "duration": 0.021706,
     "end_time": "2021-05-23T05:52:25.939741",
     "exception": false,
     "start_time": "2021-05-23T05:52:25.918035",
     "status": "completed"
    },
    "tags": []
   },
   "source": [
    "Now you've made your first new feature set! If you like, you can run the cell below to score the model with all of your new features added:"
   ]
  },
  {
   "cell_type": "code",
   "execution_count": 13,
   "id": "chubby-nursing",
   "metadata": {
    "execution": {
     "iopub.execute_input": "2021-05-23T05:52:25.988135Z",
     "iopub.status.busy": "2021-05-23T05:52:25.987144Z",
     "iopub.status.idle": "2021-05-23T05:52:29.330723Z",
     "shell.execute_reply": "2021-05-23T05:52:29.331363Z",
     "shell.execute_reply.started": "2021-05-22T18:24:35.739024Z"
    },
    "papermill": {
     "duration": 3.369699,
     "end_time": "2021-05-23T05:52:29.331568",
     "exception": false,
     "start_time": "2021-05-23T05:52:25.961869",
     "status": "completed"
    },
    "tags": []
   },
   "outputs": [
    {
     "data": {
      "text/plain": [
       "0.13847331710099203"
      ]
     },
     "execution_count": 13,
     "metadata": {},
     "output_type": "execute_result"
    }
   ],
   "source": [
    "X_new = X.join([X_1, X_2, X_3, X_4, X_5])\n",
    "score_dataset(X_new, y)"
   ]
  },
  {
   "cell_type": "markdown",
   "id": "collaborative-glass",
   "metadata": {
    "papermill": {
     "duration": 0.021989,
     "end_time": "2021-05-23T05:52:29.377333",
     "exception": false,
     "start_time": "2021-05-23T05:52:29.355344",
     "status": "completed"
    },
    "tags": []
   },
   "source": [
    "# Keep Going #\n",
    "\n",
    "[**Untangle spatial relationships**](https://www.kaggle.com/ryanholbrook/clustering-with-k-means) by adding cluster labels to your dataset."
   ]
  },
  {
   "cell_type": "markdown",
   "id": "lesbian-sword",
   "metadata": {
    "papermill": {
     "duration": 0.022163,
     "end_time": "2021-05-23T05:52:29.421755",
     "exception": false,
     "start_time": "2021-05-23T05:52:29.399592",
     "status": "completed"
    },
    "tags": []
   },
   "source": [
    "---\n",
    "\n",
    "\n",
    "\n",
    "\n",
    "*Have questions or comments? Visit the [Learn Discussion forum](https://www.kaggle.com/learn-forum/221677) to chat with other Learners.*"
   ]
  }
 ],
 "metadata": {
  "kernelspec": {
   "display_name": "Python 3",
   "language": "python",
   "name": "python3"
  },
  "language_info": {
   "codemirror_mode": {
    "name": "ipython",
    "version": 3
   },
   "file_extension": ".py",
   "mimetype": "text/x-python",
   "name": "python",
   "nbconvert_exporter": "python",
   "pygments_lexer": "ipython3",
   "version": "3.7.9"
  },
  "papermill": {
   "default_parameters": {},
   "duration": 13.700472,
   "end_time": "2021-05-23T05:52:30.255260",
   "environment_variables": {},
   "exception": null,
   "input_path": "__notebook__.ipynb",
   "output_path": "__notebook__.ipynb",
   "parameters": {},
   "start_time": "2021-05-23T05:52:16.554788",
   "version": "2.3.2"
  }
 },
 "nbformat": 4,
 "nbformat_minor": 5
}
